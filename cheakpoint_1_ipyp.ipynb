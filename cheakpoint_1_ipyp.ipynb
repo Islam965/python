{
  "nbformat": 4,
  "nbformat_minor": 0,
  "metadata": {
    "colab": {
      "provenance": []
    },
    "kernelspec": {
      "name": "python3",
      "display_name": "Python 3"
    },
    "language_info": {
      "name": "python"
    }
  },
  "cells": [
    {
      "cell_type": "code",
      "execution_count": 2,
      "metadata": {
        "colab": {
          "base_uri": "https://localhost:8080/"
        },
        "id": "-grsw_D7dT4-",
        "outputId": "a2bea6fa-4754-47e0-e957-ff3c4220376a"
      },
      "outputs": [
        {
          "output_type": "stream",
          "name": "stdout",
          "text": [
            "welcome to python world!lets start coding\n"
          ]
        }
      ],
      "source": [
        "print(\"welcome to python world!lets start coding\")"
      ]
    }
  ]
}