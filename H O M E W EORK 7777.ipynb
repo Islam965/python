{
 "cells": [
  {
   "cell_type": "code",
   "execution_count": 1,
   "id": "df5ddf22",
   "metadata": {},
   "outputs": [
    {
     "data": {
      "text/plain": [
       "'What is Python language?                                                \\nPython is a widely used high-level, general-purpose, interpreted, dynamic programming language.Its design philosophy emphasizes code readability, and its syntax allows programmers to express concepts in fewer lines of code than possible in \\nlanguages such as C++ or Java. \\nPython supports multiple programming paradigms, including object-oriented, imperative and functional programming or procedural styles. It features a dynamic type system and automatic memory management and has a large and comprehensive standard library.The best way we learn anything is by practice and exercise questions. We  have started this section for those (beginner to intermediate) who are familiar with Python.'"
      ]
     },
     "execution_count": 1,
     "metadata": {},
     "output_type": "execute_result"
    }
   ],
   "source": [
    "f = open (\"C:/Users/SALOOM/Desktop/PYTHON.txt\")\n",
    "\n",
    "f.read()"
   ]
  },
  {
   "cell_type": "code",
   "execution_count": 2,
   "id": "58b1f26c",
   "metadata": {},
   "outputs": [
    {
     "name": "stdout",
     "output_type": "stream",
     "text": [
      "What is Python language?                                                \n",
      "\n",
      "Python is a widely used high-level, general-purpose, interpreted, dynamic programming language.Its design philosophy emphasizes code readability, and its syntax allows programmers to express concepts in fewer lines of code than possible in \n",
      "\n",
      "languages such as C++ or Java. \n",
      "\n"
     ]
    }
   ],
   "source": [
    "f = open (\"C:/Users/SALOOM/Desktop/PYTHON.txt\")\n",
    "n = 3\n",
    "for i in range(n):\n",
    "    print(f.readline())"
   ]
  },
  {
   "cell_type": "code",
   "execution_count": 4,
   "id": "d60b7c03",
   "metadata": {},
   "outputs": [
    {
     "name": "stdout",
     "output_type": "stream",
     "text": [
      "Python is a widely used high-level, general-purpose, interpreted, dynamic programming language.Its design philosophy emphasizes code readability, and its syntax allows programmers to express concepts in fewer lines of code than possible in \n",
      "\n",
      "languages such as C++ or Java. \n",
      "\n",
      "Python supports multiple programming paradigms, including object-oriented, imperative and functional programming or procedural styles. It features a dynamic type system and automatic memory management and has a large and comprehensive standard library.The best way we learn anything is by practice and exercise questions. We  have started this section for those (beginner to intermediate) who are familiar with Python.\n"
     ]
    }
   ],
   "source": [
    "with open(\"C:/Users/SALOOM/Desktop/PYTHON.txt\") as f:\n",
    "    for lines in (f.readlines() [-3:]):\n",
    "        print(lines)"
   ]
  },
  {
   "cell_type": "code",
   "execution_count": 25,
   "id": "88ea380f",
   "metadata": {},
   "outputs": [
    {
     "data": {
      "text/plain": [
       "100"
      ]
     },
     "execution_count": 25,
     "metadata": {},
     "output_type": "execute_result"
    }
   ],
   "source": [
    "f = open (\"C:/Users/SALOOM/Desktop/PYTHON.txt\")\n",
    "\n",
    "y = f.read()\n",
    "\n",
    "len(y.split())"
   ]
  },
  {
   "cell_type": "code",
   "execution_count": null,
   "id": "562376e2",
   "metadata": {},
   "outputs": [],
   "source": []
  }
 ],
 "metadata": {
  "kernelspec": {
   "display_name": "Python 3 (ipykernel)",
   "language": "python",
   "name": "python3"
  },
  "language_info": {
   "codemirror_mode": {
    "name": "ipython",
    "version": 3
   },
   "file_extension": ".py",
   "mimetype": "text/x-python",
   "name": "python",
   "nbconvert_exporter": "python",
   "pygments_lexer": "ipython3",
   "version": "3.10.9"
  }
 },
 "nbformat": 4,
 "nbformat_minor": 5
}
