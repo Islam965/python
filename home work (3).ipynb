{
 "cells": [
  {
   "cell_type": "code",
   "execution_count": 1,
   "id": "effbcfb3",
   "metadata": {},
   "outputs": [
    {
     "name": "stdout",
     "output_type": "stream",
     "text": [
      "Enter an operator (+ - * /): *\n",
      "Enter the 1st number: 10\n",
      "Enter the 2nd number: 5\n",
      "50.0\n"
     ]
    }
   ],
   "source": [
    "operator = input(\"Enter an operator (+ - * /): \")\n",
    "num1 = float(input(\"Enter the 1st number: \"))\n",
    "num2 = float(input(\"Enter the 2nd number: \"))\n",
    "\n",
    "if operator == \"+\":\n",
    "    result = num1 + num2\n",
    "    print(round(result, 3))\n",
    "elif operator == \"-\":\n",
    "    result = num1 - num2\n",
    "    print(round(result, 3))\n",
    "elif operator == \"*\":\n",
    "    result = num1 * num2\n",
    "    print(round(result, 3))\n",
    "elif operator == \"/\":\n",
    "    result = num1 / num2\n",
    "    print(round(result, 3))\n",
    "else:\n",
    "    print(f\"{operator} is not a valid operator\")"
   ]
  },
  {
   "cell_type": "code",
   "execution_count": null,
   "id": "b1988390",
   "metadata": {},
   "outputs": [],
   "source": []
  }
 ],
 "metadata": {
  "kernelspec": {
   "display_name": "Python 3 (ipykernel)",
   "language": "python",
   "name": "python3"
  },
  "language_info": {
   "codemirror_mode": {
    "name": "ipython",
    "version": 3
   },
   "file_extension": ".py",
   "mimetype": "text/x-python",
   "name": "python",
   "nbconvert_exporter": "python",
   "pygments_lexer": "ipython3",
   "version": "3.10.9"
  }
 },
 "nbformat": 4,
 "nbformat_minor": 5
}
